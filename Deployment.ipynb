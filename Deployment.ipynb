{
  "nbformat": 4,
  "nbformat_minor": 0,
  "metadata": {
    "colab": {
      "name": "Deployment.ipynb",
      "provenance": [],
      "mount_file_id": "1N5yrYGGCpH6pCRIDveVMTJ1cXqvDAE-a",
      "authorship_tag": "ABX9TyM1G9xUonKRjSzhgxnUJ664",
      "include_colab_link": true
    },
    "kernelspec": {
      "name": "python3",
      "display_name": "Python 3"
    },
    "language_info": {
      "name": "python"
    }
  },
  "cells": [
    {
      "cell_type": "markdown",
      "metadata": {
        "id": "view-in-github",
        "colab_type": "text"
      },
      "source": [
        "<a href=\"https://colab.research.google.com/github/payalporwal/ANN-Model/blob/main/Deployment.ipynb\" target=\"_parent\"><img src=\"https://colab.research.google.com/assets/colab-badge.svg\" alt=\"Open In Colab\"/></a>"
      ]
    },
    {
      "cell_type": "code",
      "metadata": {
        "colab": {
          "base_uri": "https://localhost:8080/"
        },
        "id": "70iJ5dDdgvLd",
        "cellView": "code",
        "outputId": "955a687a-0465-4d35-d81d-ced13c93af7e"
      },
      "source": [
        "#@title Default title text\n",
        "!pip install streamlit --quiet\n",
        "!pip install pyngrok==4.1.1 --quiet\n",
        "!pip install streamlit-drawable-canvas --quiet\n",
        "from pyngrok import ngrok"
      ],
      "execution_count": null,
      "outputs": [
        {
          "output_type": "stream",
          "text": [
            "\u001b[K     |████████████████████████████████| 8.2MB 4.0MB/s \n",
            "\u001b[K     |████████████████████████████████| 112kB 36.5MB/s \n",
            "\u001b[K     |████████████████████████████████| 4.2MB 36.2MB/s \n",
            "\u001b[K     |████████████████████████████████| 81kB 8.4MB/s \n",
            "\u001b[K     |████████████████████████████████| 174kB 32.7MB/s \n",
            "\u001b[K     |████████████████████████████████| 122kB 47.9MB/s \n",
            "\u001b[K     |████████████████████████████████| 71kB 8.0MB/s \n",
            "\u001b[?25h  Building wheel for blinker (setup.py) ... \u001b[?25l\u001b[?25hdone\n",
            "\u001b[31mERROR: google-colab 1.0.0 has requirement ipykernel~=4.10, but you'll have ipykernel 5.5.5 which is incompatible.\u001b[0m\n",
            "  Building wheel for pyngrok (setup.py) ... \u001b[?25l\u001b[?25hdone\n",
            "\u001b[K     |████████████████████████████████| 1.3MB 4.0MB/s \n",
            "\u001b[?25h"
          ],
          "name": "stdout"
        }
      ]
    },
    {
      "cell_type": "code",
      "metadata": {
        "colab": {
          "base_uri": "https://localhost:8080/"
        },
        "id": "0EZ_cMsggx7D",
        "outputId": "46d43988-6ec3-4bca-8f70-fd79ba1daf1d"
      },
      "source": [
        "%%writefile app.py\n",
        "import streamlit as st\n",
        "from streamlit_drawable_canvas import st_canvas\n",
        "import numpy as np\n",
        "import cv2\n",
        "from tensorflow import keras\n",
        "st.title('Digit Recognizer')\n",
        "canvas_result = st_canvas(\n",
        "    fill_color=\"#000000\", \n",
        "    stroke_width=15,\n",
        "    stroke_color='#ffffff',\n",
        "    background_color=\"#000000\",\n",
        "    height=150,width=150,\n",
        "    drawing_mode='freedraw',\n",
        "    key=\"canvas\",\n",
        ")\n",
        "if canvas_result.image_data is not None:\n",
        "    st.image(canvas_result.image_data)\n",
        "img = canvas_result.image_data.astype('uint8')\n",
        "data = cv2.cvtColor(img, cv2.COLOR_BGR2GRAY)\n",
        "image = cv2.resize(data,(28,28))\n",
        "model = keras.models.load_model('digit.hdf5')\n",
        "if st.button('Recognize'):\n",
        "    image = np.expand_dims(image, axis=0)\n",
        "    outputs = model.predict(image)\n",
        "    final = np.argmax(outputs[0]) \n",
        "    string= f'Result: {final}'  \n",
        "    st.title(string)\n",
        "    st.bar_chart(outputs[0])"
      ],
      "execution_count": null,
      "outputs": [
        {
          "output_type": "stream",
          "text": [
            "Writing app.py\n"
          ],
          "name": "stdout"
        }
      ]
    },
    {
      "cell_type": "code",
      "metadata": {
        "colab": {
          "base_uri": "https://localhost:8080/"
        },
        "id": "Bv9jWTgxg4C9",
        "outputId": "cf66907b-ba7d-40ea-c6be-099d370831d7"
      },
      "source": [
        "!nohup streamlit run app.py &\n",
        "url = ngrok.connect(port='8501')\n",
        "print(url)"
      ],
      "execution_count": null,
      "outputs": [
        {
          "output_type": "stream",
          "text": [
            "nohup: appending output to 'nohup.out'\n",
            "http://34cac238ebdb.ngrok.io\n"
          ],
          "name": "stdout"
        }
      ]
    }
  ]
}
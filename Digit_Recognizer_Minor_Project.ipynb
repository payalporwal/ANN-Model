{
  "nbformat": 4,
  "nbformat_minor": 0,
  "metadata": {
    "colab": {
      "name": "Digit Recognizer - Minor Project.ipynb",
      "provenance": [],
      "collapsed_sections": [],
      "mount_file_id": "1bw0ZUgMa-feLuGcepSTLxzv-_LTIrWcy",
      "authorship_tag": "ABX9TyMHbU1OTPVv3m1ryNQrIlh5",
      "include_colab_link": true
    },
    "kernelspec": {
      "name": "python3",
      "display_name": "Python 3"
    },
    "language_info": {
      "name": "python"
    },
    "accelerator": "GPU"
  },
  "cells": [
    {
      "cell_type": "markdown",
      "metadata": {
        "id": "view-in-github",
        "colab_type": "text"
      },
      "source": [
        "<a href=\"https://colab.research.google.com/github/payalporwal/ANN-Model/blob/main/Digit_Recognizer_Minor_Project.ipynb\" target=\"_parent\"><img src=\"https://colab.research.google.com/assets/colab-badge.svg\" alt=\"Open In Colab\"/></a>"
      ]
    },
    {
      "cell_type": "code",
      "metadata": {
        "id": "Va3yUwDL6qIl"
      },
      "source": [
        "from tensorflow import keras\n",
        "(x_train, y_train), (x_test, y_test) = keras.datasets.mnist.load_data(path=\"mnist.npz\")"
      ],
      "execution_count": null,
      "outputs": []
    },
    {
      "cell_type": "code",
      "metadata": {
        "colab": {
          "base_uri": "https://localhost:8080/"
        },
        "id": "a1ufxA1w6_g2",
        "outputId": "46850956-1118-4250-f397-530369c53efd"
      },
      "source": [
        " print(x_train.shape)\n",
        " print(x_test.shape)"
      ],
      "execution_count": null,
      "outputs": [
        {
          "output_type": "stream",
          "text": [
            "(60000, 28, 28)\n",
            "(10000, 28, 28)\n"
          ],
          "name": "stdout"
        }
      ]
    },
    {
      "cell_type": "code",
      "metadata": {
        "colab": {
          "base_uri": "https://localhost:8080/"
        },
        "id": "uqM7j3ye8vRZ",
        "outputId": "604cd8d8-6dc3-43fc-ea44-ae9446c090a5"
      },
      "source": [
        "x_test[0].shape"
      ],
      "execution_count": null,
      "outputs": [
        {
          "output_type": "execute_result",
          "data": {
            "text/plain": [
              "(28, 28)"
            ]
          },
          "metadata": {
            "tags": []
          },
          "execution_count": 121
        }
      ]
    },
    {
      "cell_type": "code",
      "metadata": {
        "colab": {
          "base_uri": "https://localhost:8080/",
          "height": 282
        },
        "id": "onlCAXcK81m7",
        "outputId": "7c0597b6-9686-4290-cb6f-6e565e12f200"
      },
      "source": [
        "import matplotlib.pyplot as plt\n",
        "i = 1300\n",
        "\n",
        "plt.imshow(x_train[i],cmap='gray')\n",
        "print(y_train[i])"
      ],
      "execution_count": null,
      "outputs": [
        {
          "output_type": "stream",
          "text": [
            "7\n"
          ],
          "name": "stdout"
        },
        {
          "output_type": "display_data",
          "data": {
            "image/png": "[encoded data removed]",
            "text/plain": [
              "<Figure size 432x288 with 1 Axes>"
            ]
          },
          "metadata": {
            "tags": [],
            "needs_background": "light"
          }
        }
      ]
    },
    {
      "cell_type": "code",
      "metadata": {
        "colab": {
          "base_uri": "https://localhost:8080/"
        },
        "id": "7BaWdg_99Wwi",
        "outputId": "e0a20dad-4b26-42dc-9a25-601f78d8b9ad"
      },
      "source": [
        "y_train[13]"
      ],
      "execution_count": null,
      "outputs": [
        {
          "output_type": "execute_result",
          "data": {
            "text/plain": [
              "6"
            ]
          },
          "metadata": {
            "tags": []
          },
          "execution_count": 123
        }
      ]
    },
    {
      "cell_type": "code",
      "metadata": {
        "id": "dh5enWTy9rSP"
      },
      "source": [
        "# Building the Layers\n",
        "model = keras.Sequential()\n",
        "model.add(keras.layers.Flatten(input_shape = (28,28)))\n",
        "model.add(keras.layers.Dense(500,activation='relu'))\n",
        "model.add(keras.layers.Dense(10,activation='softmax'))"
      ],
      "execution_count": null,
      "outputs": []
    },
    {
      "cell_type": "code",
      "metadata": {
        "id": "w0lvB_yH-yiB"
      },
      "source": [
        "model.compile(optimizer='adam',loss='sparse_categorical_crossentropy',metrics=['accuracy'])"
      ],
      "execution_count": null,
      "outputs": []
    },
    {
      "cell_type": "code",
      "metadata": {
        "colab": {
          "base_uri": "https://localhost:8080/"
        },
        "id": "CHv4ddiXVteT",
        "outputId": "ea7dd47e-447b-4759-df29-68daeb1e3867"
      },
      "source": [
        "history = model.fit(x_train,y_train,epochs=70,validation_data=(x_test,y_test))"
      ],
      "execution_count": null,
      "outputs": [
        {
          "output_type": "stream",
          "text": [
            "Epoch 1/70\n",
            "1875/1875 [==============================] - 4s 2ms/step - loss: 7.7715 - accuracy: 0.8709 - val_loss: 0.5996 - val_accuracy: 0.9107\n",
            "Epoch 2/70\n",
            "1875/1875 [==============================] - 4s 2ms/step - loss: 0.3543 - accuracy: 0.9380 - val_loss: 0.3588 - val_accuracy: 0.9315\n",
            "Epoch 3/70\n",
            "1875/1875 [==============================] - 4s 2ms/step - loss: 0.3006 - accuracy: 0.9414 - val_loss: 0.3206 - val_accuracy: 0.9424\n",
            "Epoch 4/70\n",
            "1875/1875 [==============================] - 4s 2ms/step - loss: 0.2633 - accuracy: 0.9460 - val_loss: 0.4145 - val_accuracy: 0.9391\n",
            "Epoch 5/70\n",
            "1875/1875 [==============================] - 4s 2ms/step - loss: 0.2561 - accuracy: 0.9488 - val_loss: 0.3201 - val_accuracy: 0.9395\n",
            "Epoch 6/70\n",
            "1875/1875 [==============================] - 4s 2ms/step - loss: 0.2111 - accuracy: 0.9551 - val_loss: 0.3489 - val_accuracy: 0.9399\n",
            "Epoch 7/70\n",
            "1875/1875 [==============================] - 4s 2ms/step - loss: 0.2037 - accuracy: 0.9568 - val_loss: 0.2457 - val_accuracy: 0.9490\n",
            "Epoch 8/70\n",
            "1875/1875 [==============================] - 4s 2ms/step - loss: 0.2024 - accuracy: 0.9590 - val_loss: 0.2749 - val_accuracy: 0.9473\n",
            "Epoch 9/70\n",
            "1875/1875 [==============================] - 4s 2ms/step - loss: 0.1811 - accuracy: 0.9610 - val_loss: 0.3661 - val_accuracy: 0.9456\n",
            "Epoch 10/70\n",
            "1875/1875 [==============================] - 4s 2ms/step - loss: 0.1967 - accuracy: 0.9628 - val_loss: 0.3350 - val_accuracy: 0.9561\n",
            "Epoch 11/70\n",
            "1875/1875 [==============================] - 4s 2ms/step - loss: 0.1710 - accuracy: 0.9645 - val_loss: 0.3203 - val_accuracy: 0.9530\n",
            "Epoch 12/70\n",
            "1875/1875 [==============================] - 4s 2ms/step - loss: 0.1685 - accuracy: 0.9673 - val_loss: 0.3241 - val_accuracy: 0.9492\n",
            "Epoch 13/70\n",
            "1875/1875 [==============================] - 4s 2ms/step - loss: 0.1739 - accuracy: 0.9652 - val_loss: 0.3264 - val_accuracy: 0.9530\n",
            "Epoch 14/70\n",
            "1875/1875 [==============================] - 4s 2ms/step - loss: 0.1651 - accuracy: 0.9672 - val_loss: 0.4368 - val_accuracy: 0.9496\n",
            "Epoch 15/70\n",
            "1875/1875 [==============================] - 4s 2ms/step - loss: 0.1585 - accuracy: 0.9693 - val_loss: 0.3487 - val_accuracy: 0.9539\n",
            "Epoch 16/70\n",
            "1875/1875 [==============================] - 4s 2ms/step - loss: 0.1533 - accuracy: 0.9700 - val_loss: 0.3821 - val_accuracy: 0.9516\n",
            "Epoch 17/70\n",
            "1875/1875 [==============================] - 4s 2ms/step - loss: 0.1461 - accuracy: 0.9717 - val_loss: 0.4219 - val_accuracy: 0.9524\n",
            "Epoch 18/70\n",
            "1875/1875 [==============================] - 4s 2ms/step - loss: 0.1573 - accuracy: 0.9712 - val_loss: 0.5216 - val_accuracy: 0.9450\n",
            "Epoch 19/70\n",
            "1875/1875 [==============================] - 4s 2ms/step - loss: 0.1538 - accuracy: 0.9721 - val_loss: 0.3812 - val_accuracy: 0.9579\n",
            "Epoch 20/70\n",
            "1875/1875 [==============================] - 4s 2ms/step - loss: 0.1416 - accuracy: 0.9736 - val_loss: 0.4548 - val_accuracy: 0.9537\n",
            "Epoch 21/70\n",
            "1875/1875 [==============================] - 4s 2ms/step - loss: 0.1433 - accuracy: 0.9741 - val_loss: 0.4742 - val_accuracy: 0.9606\n",
            "Epoch 22/70\n",
            "1875/1875 [==============================] - 4s 2ms/step - loss: 0.1387 - accuracy: 0.9739 - val_loss: 0.4731 - val_accuracy: 0.9581\n",
            "Epoch 23/70\n",
            "1875/1875 [==============================] - 4s 2ms/step - loss: 0.1416 - accuracy: 0.9743 - val_loss: 0.4546 - val_accuracy: 0.9579\n",
            "Epoch 24/70\n",
            "1875/1875 [==============================] - 4s 2ms/step - loss: 0.1233 - accuracy: 0.9767 - val_loss: 0.4951 - val_accuracy: 0.9584\n",
            "Epoch 25/70\n",
            "1875/1875 [==============================] - 4s 2ms/step - loss: 0.1248 - accuracy: 0.9765 - val_loss: 0.5334 - val_accuracy: 0.9578\n",
            "Epoch 26/70\n",
            "1875/1875 [==============================] - 4s 2ms/step - loss: 0.1190 - accuracy: 0.9775 - val_loss: 0.5197 - val_accuracy: 0.9553\n",
            "Epoch 27/70\n",
            "1875/1875 [==============================] - 4s 2ms/step - loss: 0.1260 - accuracy: 0.9758 - val_loss: 0.5563 - val_accuracy: 0.9527\n",
            "Epoch 28/70\n",
            "1875/1875 [==============================] - 4s 2ms/step - loss: 0.1449 - accuracy: 0.9742 - val_loss: 0.5186 - val_accuracy: 0.9581\n",
            "Epoch 29/70\n",
            "1875/1875 [==============================] - 4s 2ms/step - loss: 0.1120 - accuracy: 0.9782 - val_loss: 0.5582 - val_accuracy: 0.9589\n",
            "Epoch 30/70\n",
            "1875/1875 [==============================] - 4s 2ms/step - loss: 0.1179 - accuracy: 0.9769 - val_loss: 0.6288 - val_accuracy: 0.9581\n",
            "Epoch 31/70\n",
            "1875/1875 [==============================] - 4s 2ms/step - loss: 0.1088 - accuracy: 0.9794 - val_loss: 0.5901 - val_accuracy: 0.9590\n",
            "Epoch 32/70\n",
            "1875/1875 [==============================] - 4s 2ms/step - loss: 0.1364 - accuracy: 0.9766 - val_loss: 0.6102 - val_accuracy: 0.9614\n",
            "Epoch 33/70\n",
            "1875/1875 [==============================] - 4s 2ms/step - loss: 0.1245 - accuracy: 0.9791 - val_loss: 0.6178 - val_accuracy: 0.9589\n",
            "Epoch 34/70\n",
            "1875/1875 [==============================] - 4s 2ms/step - loss: 0.1329 - accuracy: 0.9772 - val_loss: 0.6498 - val_accuracy: 0.9590\n",
            "Epoch 35/70\n",
            "1875/1875 [==============================] - 4s 2ms/step - loss: 0.1199 - accuracy: 0.9795 - val_loss: 0.6171 - val_accuracy: 0.9603\n",
            "Epoch 36/70\n",
            "1875/1875 [==============================] - 4s 2ms/step - loss: 0.1165 - accuracy: 0.9792 - val_loss: 0.6000 - val_accuracy: 0.9602\n",
            "Epoch 37/70\n",
            "1875/1875 [==============================] - 4s 2ms/step - loss: 0.1298 - accuracy: 0.9781 - val_loss: 0.7446 - val_accuracy: 0.9616\n",
            "Epoch 38/70\n",
            "1875/1875 [==============================] - 4s 2ms/step - loss: 0.1465 - accuracy: 0.9776 - val_loss: 0.7176 - val_accuracy: 0.9616\n",
            "Epoch 39/70\n",
            "1875/1875 [==============================] - 4s 2ms/step - loss: 0.1183 - accuracy: 0.9804 - val_loss: 0.7498 - val_accuracy: 0.9591\n",
            "Epoch 40/70\n",
            "1875/1875 [==============================] - 4s 2ms/step - loss: 0.1050 - accuracy: 0.9818 - val_loss: 0.6699 - val_accuracy: 0.9596\n",
            "Epoch 41/70\n",
            "1875/1875 [==============================] - 4s 2ms/step - loss: 0.1033 - accuracy: 0.9810 - val_loss: 0.8246 - val_accuracy: 0.9595\n",
            "Epoch 42/70\n",
            "1875/1875 [==============================] - 4s 2ms/step - loss: 0.1089 - accuracy: 0.9815 - val_loss: 0.7673 - val_accuracy: 0.9564\n",
            "Epoch 43/70\n",
            "1875/1875 [==============================] - 4s 2ms/step - loss: 0.1158 - accuracy: 0.9805 - val_loss: 0.6888 - val_accuracy: 0.9621\n",
            "Epoch 44/70\n",
            "1875/1875 [==============================] - 4s 2ms/step - loss: 0.1277 - accuracy: 0.9790 - val_loss: 0.7860 - val_accuracy: 0.9593\n",
            "Epoch 45/70\n",
            "1875/1875 [==============================] - 4s 2ms/step - loss: 0.1101 - accuracy: 0.9804 - val_loss: 0.7904 - val_accuracy: 0.9600\n",
            "Epoch 46/70\n",
            "1875/1875 [==============================] - 4s 2ms/step - loss: 0.1119 - accuracy: 0.9794 - val_loss: 0.9518 - val_accuracy: 0.9587\n",
            "Epoch 47/70\n",
            "1875/1875 [==============================] - 4s 2ms/step - loss: 0.1142 - accuracy: 0.9819 - val_loss: 0.7828 - val_accuracy: 0.9613\n",
            "Epoch 48/70\n",
            "1875/1875 [==============================] - 4s 2ms/step - loss: 0.0944 - accuracy: 0.9824 - val_loss: 0.8047 - val_accuracy: 0.9593\n",
            "Epoch 49/70\n",
            "1875/1875 [==============================] - 4s 2ms/step - loss: 0.1038 - accuracy: 0.9824 - val_loss: 0.9047 - val_accuracy: 0.9568\n",
            "Epoch 50/70\n",
            "1875/1875 [==============================] - 4s 2ms/step - loss: 0.1201 - accuracy: 0.9797 - val_loss: 0.8381 - val_accuracy: 0.9590\n",
            "Epoch 51/70\n",
            "1875/1875 [==============================] - 4s 2ms/step - loss: 0.1122 - accuracy: 0.9797 - val_loss: 0.8013 - val_accuracy: 0.9607\n",
            "Epoch 52/70\n",
            "1875/1875 [==============================] - 4s 2ms/step - loss: 0.0944 - accuracy: 0.9826 - val_loss: 0.9124 - val_accuracy: 0.9607\n",
            "Epoch 53/70\n",
            "1875/1875 [==============================] - 4s 2ms/step - loss: 0.1047 - accuracy: 0.9822 - val_loss: 0.9731 - val_accuracy: 0.9598\n",
            "Epoch 54/70\n",
            "1875/1875 [==============================] - 4s 2ms/step - loss: 0.1097 - accuracy: 0.9812 - val_loss: 0.9048 - val_accuracy: 0.9615\n",
            "Epoch 55/70\n",
            "1875/1875 [==============================] - 4s 2ms/step - loss: 0.0977 - accuracy: 0.9840 - val_loss: 0.9142 - val_accuracy: 0.9625\n",
            "Epoch 56/70\n",
            "1875/1875 [==============================] - 4s 2ms/step - loss: 0.1090 - accuracy: 0.9819 - val_loss: 0.8738 - val_accuracy: 0.9587\n",
            "Epoch 57/70\n",
            "1875/1875 [==============================] - 4s 2ms/step - loss: 0.0968 - accuracy: 0.9824 - val_loss: 0.9643 - val_accuracy: 0.9618\n",
            "Epoch 58/70\n",
            "1875/1875 [==============================] - 4s 2ms/step - loss: 0.1113 - accuracy: 0.9817 - val_loss: 0.9683 - val_accuracy: 0.9609\n",
            "Epoch 59/70\n",
            "1875/1875 [==============================] - 4s 2ms/step - loss: 0.1013 - accuracy: 0.9828 - val_loss: 0.9695 - val_accuracy: 0.9574\n",
            "Epoch 60/70\n",
            "1875/1875 [==============================] - 4s 2ms/step - loss: 0.0950 - accuracy: 0.9812 - val_loss: 0.8592 - val_accuracy: 0.9609\n",
            "Epoch 61/70\n",
            "1875/1875 [==============================] - 4s 2ms/step - loss: 0.0902 - accuracy: 0.9842 - val_loss: 1.1235 - val_accuracy: 0.9595\n",
            "Epoch 62/70\n",
            "1875/1875 [==============================] - 4s 2ms/step - loss: 0.1055 - accuracy: 0.9833 - val_loss: 0.9593 - val_accuracy: 0.9650\n",
            "Epoch 63/70\n",
            "1875/1875 [==============================] - 4s 2ms/step - loss: 0.0877 - accuracy: 0.9847 - val_loss: 1.0704 - val_accuracy: 0.9624\n",
            "Epoch 64/70\n",
            "1875/1875 [==============================] - 4s 2ms/step - loss: 0.0857 - accuracy: 0.9849 - val_loss: 1.2145 - val_accuracy: 0.9633\n",
            "Epoch 65/70\n",
            "1875/1875 [==============================] - 4s 2ms/step - loss: 0.1056 - accuracy: 0.9844 - val_loss: 1.1256 - val_accuracy: 0.9629\n",
            "Epoch 66/70\n",
            "1875/1875 [==============================] - 4s 2ms/step - loss: 0.1034 - accuracy: 0.9844 - val_loss: 1.2147 - val_accuracy: 0.9608\n",
            "Epoch 67/70\n",
            "1875/1875 [==============================] - 4s 2ms/step - loss: 0.1246 - accuracy: 0.9837 - val_loss: 1.4009 - val_accuracy: 0.9615\n",
            "Epoch 68/70\n",
            "1875/1875 [==============================] - 4s 2ms/step - loss: 0.1012 - accuracy: 0.9845 - val_loss: 1.2298 - val_accuracy: 0.9605\n",
            "Epoch 69/70\n",
            "1875/1875 [==============================] - 4s 2ms/step - loss: 0.1012 - accuracy: 0.9846 - val_loss: 1.3041 - val_accuracy: 0.9644\n",
            "Epoch 70/70\n",
            "1875/1875 [==============================] - 4s 2ms/step - loss: 0.1061 - accuracy: 0.9828 - val_loss: 1.2989 - val_accuracy: 0.9529\n"
          ],
          "name": "stdout"
        }
      ]
    },
    {
      "cell_type": "code",
      "metadata": {
        "colab": {
          "base_uri": "https://localhost:8080/",
          "height": 282
        },
        "id": "0Pi5Netd_aek",
        "outputId": "0457aec1-a29d-435c-8ad0-837055155326"
      },
      "source": [
        "import pandas as pd\n",
        "loss = pd.DataFrame(model.history.history)\n",
        "loss.plot()"
      ],
      "execution_count": null,
      "outputs": [
        {
          "output_type": "execute_result",
          "data": {
            "text/plain": [
              "<matplotlib.axes._subplots.AxesSubplot at 0x7f1f32ff9e90>"
            ]
          },
          "metadata": {
            "tags": []
          },
          "execution_count": 127
        },
        {
          "output_type": "display_data",
          "data": {
            "image/png": "[encoded data removed]",
            "text/plain": [
              "<Figure size 432x288 with 1 Axes>"
            ]
          },
          "metadata": {
            "tags": [],
            "needs_background": "light"
          }
        }
      ]
    },
    {
      "cell_type": "code",
      "metadata": {
        "colab": {
          "base_uri": "https://localhost:8080/"
        },
        "id": "gj07cod_DX1p",
        "outputId": "4c4d0dc6-4337-44b6-c32d-4fddf199aefc"
      },
      "source": [
        "import numpy as np\n",
        "y_pred = model.predict(x_test) \n",
        "y_pred = np.argmax(y_pred,axis=1) \n",
        "y_pred"
      ],
      "execution_count": null,
      "outputs": [
        {
          "output_type": "execute_result",
          "data": {
            "text/plain": [
              "array([7, 2, 1, ..., 4, 5, 6])"
            ]
          },
          "metadata": {
            "tags": []
          },
          "execution_count": 128
        }
      ]
    },
    {
      "cell_type": "code",
      "metadata": {
        "colab": {
          "base_uri": "https://localhost:8080/"
        },
        "id": "snvAmZ2-Dmj4",
        "outputId": "52b4ecff-c199-4d2f-b4b3-a31e6dbf5e3c"
      },
      "source": [
        "y_test"
      ],
      "execution_count": null,
      "outputs": [
        {
          "output_type": "execute_result",
          "data": {
            "text/plain": [
              "array([7, 2, 1, ..., 4, 5, 6], dtype=uint8)"
            ]
          },
          "metadata": {
            "tags": []
          },
          "execution_count": 129
        }
      ]
    },
    {
      "cell_type": "code",
      "metadata": {
        "colab": {
          "base_uri": "https://localhost:8080/"
        },
        "id": "k8joUYO2DpBH",
        "outputId": "c2a07f8f-c87d-4a6b-8384-215b197afbe4"
      },
      "source": [
        "from sklearn.metrics import accuracy_score,confusion_matrix\n",
        "confusion_matrix(y_pred,y_test)"
      ],
      "execution_count": null,
      "outputs": [
        {
          "output_type": "execute_result",
          "data": {
            "text/plain": [
              "array([[ 962,    0,    1,    2,    0,    2,    6,    0,    4,    4],\n",
              "       [   1, 1127,    3,    0,    2,    0,    4,    4,    1,    5],\n",
              "       [   2,    2,  998,    5,    2,    0,    0,    7,    5,    0],\n",
              "       [   0,    1,    1,  944,    0,    4,    0,    2,    5,    0],\n",
              "       [   1,    0,    0,    0,  947,    1,    0,    1,    6,  121],\n",
              "       [   0,    0,    1,   15,    0,  851,    7,    0,    8,    3],\n",
              "       [   8,    0,    3,    0,    5,   10,  934,    0,    5,    1],\n",
              "       [   1,    0,    4,    5,    3,    1,    0,  996,    2,    6],\n",
              "       [   4,    5,   20,   34,   10,   20,    7,    3,  932,   31],\n",
              "       [   1,    0,    1,    5,   13,    3,    0,   15,    6,  838]])"
            ]
          },
          "metadata": {
            "tags": []
          },
          "execution_count": 130
        }
      ]
    },
    {
      "cell_type": "code",
      "metadata": {
        "colab": {
          "base_uri": "https://localhost:8080/"
        },
        "id": "gmmR1cfKDxHu",
        "outputId": "b42e2552-203c-4be0-aadc-0b8bde46e1e2"
      },
      "source": [
        "accuracy_score(y_pred,y_test)*100"
      ],
      "execution_count": null,
      "outputs": [
        {
          "output_type": "execute_result",
          "data": {
            "text/plain": [
              "95.28999999999999"
            ]
          },
          "metadata": {
            "tags": []
          },
          "execution_count": 131
        }
      ]
    },
    {
      "cell_type": "code",
      "metadata": {
        "id": "Ko1usMyD5GmP"
      },
      "source": [
        "model.save('digit.hdf5')"
      ],
      "execution_count": null,
      "outputs": []
    }
  ]
}